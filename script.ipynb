{
 "cells": [
  {
   "cell_type": "code",
   "execution_count": 140,
   "metadata": {},
   "outputs": [],
   "source": [
    "#Import the necessary libraries\n",
    "import pandas as pd\n",
    "import torch\n",
    "import random\n",
    "from sklearn.preprocessing import MultiLabelBinarizer\n",
    "from sklearn.model_selection import train_test_split\n",
    "from torch.utils.data import Dataset, DataLoader\n"
   ]
  },
  {
   "cell_type": "code",
   "execution_count": 141,
   "metadata": {},
   "outputs": [],
   "source": [
    "#Load the data\n",
    "candidates_df = pd.read_csv(\"candidates_data.csv\")\n",
    "job_orders_df = pd.read_csv(\"job_orders_data.csv\")"
   ]
  },
  {
   "cell_type": "code",
   "execution_count": 142,
   "metadata": {},
   "outputs": [
    {
     "name": "stdout",
     "output_type": "stream",
     "text": [
      "  CandidateID                                             Skills  \\\n",
      "0          C1  ['Java', 'Project Management', 'Python', 'Mach...   \n",
      "1          C2  ['Machine Learning', 'SQL', 'C++', 'Deep Learn...   \n",
      "2          C3        ['Leadership', 'Project Management', 'C++']   \n",
      "3          C4  ['C++', 'Python', 'Excel', 'Leadership', 'Proj...   \n",
      "4          C5  ['Machine Learning', 'Leadership', 'Data Analy...   \n",
      "\n",
      "   ExperienceYears   Education CurrentLocation  RelocationWillingness  \\\n",
      "0               13  Bachelor's         Seattle                  False   \n",
      "1               15    Master's         Chicago                   True   \n",
      "2               12  Bachelor's         Chicago                   True   \n",
      "3                4    Master's         Chicago                  False   \n",
      "4                7    Master's         Seattle                   True   \n",
      "\n",
      "   SalaryExpectation PersonalityAssessment  \n",
      "0              42849             Extrovert  \n",
      "1              41451              Ambivert  \n",
      "2              51817             Extrovert  \n",
      "3              58580             Extrovert  \n",
      "4             126064             Introvert  \n"
     ]
    }
   ],
   "source": [
    "print(candidates_df.head())\n"
   ]
  },
  {
   "cell_type": "code",
   "execution_count": 143,
   "metadata": {},
   "outputs": [
    {
     "name": "stdout",
     "output_type": "stream",
     "text": [
      "  JobID                                     RequiredSkills        JobTitle  \\\n",
      "0    J1  ['Project Management', 'Python', 'Leadership',...         Analyst   \n",
      "1    J2  ['Project Management', 'Excel', 'SQL', 'Data A...  Data Scientist   \n",
      "2    J3   ['Excel', 'Project Management', 'Deep Learning']         Analyst   \n",
      "3    J4               ['Excel', 'Data Analysis', 'Python']  Data Scientist   \n",
      "4    J5                  ['Data Analysis', 'C++', 'Excel']         Analyst   \n",
      "\n",
      "                                      JobDescription       Location  \\\n",
      "0  We are looking for a Analyst to join our Finan...        Chicago   \n",
      "1  We are looking for a Data Scientist to join ou...        Chicago   \n",
      "2  We are looking for a Analyst to join our Retai...        Chicago   \n",
      "3  We are looking for a Data Scientist to join ou...  San Francisco   \n",
      "4  We are looking for a Analyst to join our Retai...        Seattle   \n",
      "\n",
      "       SalaryRange CompanyInfo    JobType  \n",
      "0   $71765-$146458     Finance  Full-time  \n",
      "1   $146688-$98866      Retail   Contract  \n",
      "2   $96625-$140912      Retail   Contract  \n",
      "3   $122047-$56860  Healthcare  Full-time  \n",
      "4  $122024-$133689      Retail  Part-time  \n"
     ]
    }
   ],
   "source": [
    "\n",
    "print(job_orders_df.head())"
   ]
  },
  {
   "cell_type": "code",
   "execution_count": 144,
   "metadata": {},
   "outputs": [],
   "source": [
    "#Convert string lists to Python lists\n",
    "mlb = MultiLabelBinarizer()\n",
    "candidates_df['Skills'] = candidates_df['Skills'].apply(eval)  # Convert string lists to Python lists\n",
    "job_orders_df['RequiredSkills'] = job_orders_df['RequiredSkills'].apply(eval)\n",
    "\n",
    "candidate_skills = mlb.fit_transform(candidates_df['Skills'])\n",
    "job_skills = mlb.transform(job_orders_df['RequiredSkills'])"
   ]
  },
  {
   "cell_type": "code",
   "execution_count": 145,
   "metadata": {},
   "outputs": [],
   "source": [
    "#Combine relevant features\n",
    "candidates_df['FeatureVector'] = list(candidate_skills)\n",
    "job_orders_df['FeatureVector'] = list(job_skills)"
   ]
  },
  {
   "cell_type": "code",
   "execution_count": 146,
   "metadata": {},
   "outputs": [],
   "source": [
    "X_candidates = torch.tensor(candidate_skills, dtype=torch.float32)\n",
    "X_jobs = torch.tensor(job_skills, dtype=torch.float32)\n",
    "y = torch.tensor([random.randint(0, 1) for _ in range(len(candidates_df))], dtype=torch.float32)\n",
    "\n",
    "X_train, X_test, y_train, y_test = train_test_split(X_candidates, y, test_size=0.2, random_state=42)"
   ]
  },
  {
   "cell_type": "code",
   "execution_count": 147,
   "metadata": {},
   "outputs": [],
   "source": [
    "#Create PyTorch Dataset and DataLoader\n",
    "class CandidateJobDataset(Dataset):\n",
    "    def __init__(self, candidates, labels):\n",
    "        self.candidates = candidates\n",
    "        self.labels = labels\n",
    "\n",
    "    def __len__(self):\n",
    "        return len(self.labels)\n",
    "\n",
    "    def __getitem__(self, idx):\n",
    "        return self.candidates[idx], self.labels[idx]\n"
   ]
  },
  {
   "cell_type": "code",
   "execution_count": 148,
   "metadata": {},
   "outputs": [],
   "source": [
    "train_dataset = CandidateJobDataset(X_train, y_train)\n",
    "test_dataset = CandidateJobDataset(X_test, y_test)\n",
    "\n",
    "train_loader = DataLoader(train_dataset, batch_size=32, shuffle=True)\n",
    "test_loader = DataLoader(test_dataset, batch_size=32, shuffle=False)"
   ]
  },
  {
   "cell_type": "code",
   "execution_count": 149,
   "metadata": {},
   "outputs": [],
   "source": [
    "#Build a Neural Network Model\n",
    "import torch.nn as nn\n",
    "\n",
    "class MatchingModel(nn.Module):\n",
    "    def __init__(self, input_size):\n",
    "        super(MatchingModel, self).__init__()\n",
    "        self.fc1 = nn.Linear(input_size, 64)\n",
    "        self.fc2 = nn.Linear(64, 32)\n",
    "        self.fc3 = nn.Linear(32, 1)\n",
    "        self.sigmoid = nn.Sigmoid()\n",
    "\n",
    "    def forward(self, x):\n",
    "        x = torch.relu(self.fc1(x))\n",
    "        x = torch.relu(self.fc2(x))\n",
    "        x = self.sigmoid(self.fc3(x))\n",
    "        return x\n"
   ]
  },
  {
   "cell_type": "code",
   "execution_count": 150,
   "metadata": {},
   "outputs": [],
   "source": [
    "model = MatchingModel(input_size=X_candidates.shape[1])"
   ]
  },
  {
   "cell_type": "code",
   "execution_count": 151,
   "metadata": {},
   "outputs": [],
   "source": [
    "criterion = nn.BCELoss()\n",
    "optimizer = torch.optim.Adam(model.parameters(), lr=0.001)"
   ]
  },
  {
   "cell_type": "code",
   "execution_count": 152,
   "metadata": {},
   "outputs": [
    {
     "name": "stdout",
     "output_type": "stream",
     "text": [
      "Epoch 1/10, Loss: 0.6724362969398499\n",
      "Epoch 2/10, Loss: 0.6818081140518188\n",
      "Epoch 3/10, Loss: 0.6649078130722046\n",
      "Epoch 4/10, Loss: 0.6563688516616821\n",
      "Epoch 5/10, Loss: 0.6912306547164917\n",
      "Epoch 6/10, Loss: 0.7135773301124573\n",
      "Epoch 7/10, Loss: 0.6712399125099182\n",
      "Epoch 8/10, Loss: 0.6921951770782471\n",
      "Epoch 9/10, Loss: 0.703930675983429\n",
      "Epoch 10/10, Loss: 0.6987135410308838\n"
     ]
    }
   ],
   "source": [
    "#Train the model\n",
    "def train_model(model, train_loader, criterion, optimizer, epochs=10):\n",
    "    model.train()\n",
    "    for epoch in range(epochs):\n",
    "        for X_batch, y_batch in train_loader:\n",
    "            optimizer.zero_grad()\n",
    "            outputs = model(X_batch).squeeze()\n",
    "            loss = criterion(outputs, y_batch)\n",
    "            loss.backward()\n",
    "            optimizer.step()\n",
    "        print(f\"Epoch {epoch+1}/{epochs}, Loss: {loss.item()}\")\n",
    "\n",
    "train_model(model, train_loader, criterion, optimizer)\n"
   ]
  },
  {
   "cell_type": "code",
   "execution_count": 155,
   "metadata": {},
   "outputs": [],
   "source": [
    "from sklearn.metrics import precision_score, recall_score, f1_score, classification_report"
   ]
  },
  {
   "cell_type": "code",
   "execution_count": 156,
   "metadata": {},
   "outputs": [],
   "source": [
    "#Evaluate the Model\n",
    "def evaluate_model(model, test_loader):\n",
    "    model.eval()\n",
    "    all_predictions = []\n",
    "    all_labels = []\n",
    "\n",
    "    with torch.no_grad():\n",
    "        for X_batch, y_batch in test_loader:\n",
    "            outputs = model(X_batch).squeeze()\n",
    "            predictions = (outputs > 0.5).float()  # Threshold at 0.5\n",
    "            all_predictions.extend(predictions.cpu().numpy())\n",
    "            all_labels.extend(y_batch.cpu().numpy())\n",
    "\n",
    "    # Calculate metrics\n",
    "    precision = precision_score(all_labels, all_predictions)\n",
    "    recall = recall_score(all_labels, all_predictions)\n",
    "    f1 = f1_score(all_labels, all_predictions)\n",
    "\n",
    "    print(\"Classification Report:\")\n",
    "    print(classification_report(all_labels, all_predictions))\n",
    "    print(f\"Precision: {precision:.2f}\")\n",
    "    print(f\"Recall: {recall:.2f}\")\n",
    "    print(f\"F1 Score: {f1:.2f}\")\n",
    "\n",
    "\n"
   ]
  },
  {
   "cell_type": "code",
   "execution_count": 157,
   "metadata": {},
   "outputs": [
    {
     "name": "stdout",
     "output_type": "stream",
     "text": [
      "Classification Report:\n",
      "              precision    recall  f1-score   support\n",
      "\n",
      "         0.0       0.47      0.98      0.64        47\n",
      "         1.0       0.67      0.04      0.07        53\n",
      "\n",
      "    accuracy                           0.48       100\n",
      "   macro avg       0.57      0.51      0.36       100\n",
      "weighted avg       0.58      0.48      0.34       100\n",
      "\n",
      "Precision: 0.67\n",
      "Recall: 0.04\n",
      "F1 Score: 0.07\n"
     ]
    }
   ],
   "source": [
    "evaluate_model(model, test_loader)"
   ]
  },
  {
   "cell_type": "code",
   "execution_count": null,
   "metadata": {},
   "outputs": [],
   "source": []
  }
 ],
 "metadata": {
  "kernelspec": {
   "display_name": "Python 3",
   "language": "python",
   "name": "python3"
  },
  "language_info": {
   "codemirror_mode": {
    "name": "ipython",
    "version": 3
   },
   "file_extension": ".py",
   "mimetype": "text/x-python",
   "name": "python",
   "nbconvert_exporter": "python",
   "pygments_lexer": "ipython3",
   "version": "3.9.6"
  }
 },
 "nbformat": 4,
 "nbformat_minor": 2
}
