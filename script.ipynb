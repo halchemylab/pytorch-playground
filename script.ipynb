{
 "cells": [
  {
   "cell_type": "code",
   "execution_count": 5,
   "metadata": {},
   "outputs": [],
   "source": [
    "import pandas as pd\n",
    "import torch\n",
    "from sklearn.preprocessing import MultiLabelBinarizer\n",
    "from sklearn.model_selection import train_test_split\n",
    "from torch.utils.data import Dataset, DataLoader\n"
   ]
  },
  {
   "cell_type": "code",
   "execution_count": 6,
   "metadata": {},
   "outputs": [],
   "source": [
    "candidates_df = pd.read_csv(\"candidates_data.csv\")\n",
    "job_orders_df = pd.read_csv(\"job_orders_data.csv\")"
   ]
  },
  {
   "cell_type": "code",
   "execution_count": 7,
   "metadata": {},
   "outputs": [
    {
     "name": "stdout",
     "output_type": "stream",
     "text": [
      "  CandidateID                                             Skills  \\\n",
      "0          C1  ['Java', 'Project Management', 'Python', 'Mach...   \n",
      "1          C2  ['Machine Learning', 'SQL', 'C++', 'Deep Learn...   \n",
      "2          C3        ['Leadership', 'Project Management', 'C++']   \n",
      "3          C4  ['C++', 'Python', 'Excel', 'Leadership', 'Proj...   \n",
      "4          C5  ['Machine Learning', 'Leadership', 'Data Analy...   \n",
      "\n",
      "   ExperienceYears   Education CurrentLocation  RelocationWillingness  \\\n",
      "0               13  Bachelor's         Seattle                  False   \n",
      "1               15    Master's         Chicago                   True   \n",
      "2               12  Bachelor's         Chicago                   True   \n",
      "3                4    Master's         Chicago                  False   \n",
      "4                7    Master's         Seattle                   True   \n",
      "\n",
      "   SalaryExpectation PersonalityAssessment  \n",
      "0              42849             Extrovert  \n",
      "1              41451              Ambivert  \n",
      "2              51817             Extrovert  \n",
      "3              58580             Extrovert  \n",
      "4             126064             Introvert  \n"
     ]
    }
   ],
   "source": [
    "print(candidates_df.head())\n"
   ]
  },
  {
   "cell_type": "code",
   "execution_count": 8,
   "metadata": {},
   "outputs": [
    {
     "name": "stdout",
     "output_type": "stream",
     "text": [
      "  JobID                                     RequiredSkills        JobTitle  \\\n",
      "0    J1  ['Project Management', 'Python', 'Leadership',...         Analyst   \n",
      "1    J2  ['Project Management', 'Excel', 'SQL', 'Data A...  Data Scientist   \n",
      "2    J3   ['Excel', 'Project Management', 'Deep Learning']         Analyst   \n",
      "3    J4               ['Excel', 'Data Analysis', 'Python']  Data Scientist   \n",
      "4    J5                  ['Data Analysis', 'C++', 'Excel']         Analyst   \n",
      "\n",
      "                                      JobDescription       Location  \\\n",
      "0  We are looking for a Analyst to join our Finan...        Chicago   \n",
      "1  We are looking for a Data Scientist to join ou...        Chicago   \n",
      "2  We are looking for a Analyst to join our Retai...        Chicago   \n",
      "3  We are looking for a Data Scientist to join ou...  San Francisco   \n",
      "4  We are looking for a Analyst to join our Retai...        Seattle   \n",
      "\n",
      "       SalaryRange CompanyInfo    JobType  \n",
      "0   $71765-$146458     Finance  Full-time  \n",
      "1   $146688-$98866      Retail   Contract  \n",
      "2   $96625-$140912      Retail   Contract  \n",
      "3   $122047-$56860  Healthcare  Full-time  \n",
      "4  $122024-$133689      Retail  Part-time  \n"
     ]
    }
   ],
   "source": [
    "\n",
    "print(job_orders_df.head())"
   ]
  },
  {
   "cell_type": "code",
   "execution_count": null,
   "metadata": {},
   "outputs": [],
   "source": []
  }
 ],
 "metadata": {
  "kernelspec": {
   "display_name": "Python 3",
   "language": "python",
   "name": "python3"
  },
  "language_info": {
   "codemirror_mode": {
    "name": "ipython",
    "version": 3
   },
   "file_extension": ".py",
   "mimetype": "text/x-python",
   "name": "python",
   "nbconvert_exporter": "python",
   "pygments_lexer": "ipython3",
   "version": "3.9.6"
  }
 },
 "nbformat": 4,
 "nbformat_minor": 2
}
